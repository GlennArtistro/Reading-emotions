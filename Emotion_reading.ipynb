{
 "cells": [
  {
   "cell_type": "markdown",
   "id": "5edc96f1",
   "metadata": {},
   "source": [
    "# Analysis of emotion in comments"
   ]
  },
  {
   "cell_type": "markdown",
   "id": "a582b9cf",
   "metadata": {},
   "source": [
    "## Part 1, the cleaning of data and testing of instrument"
   ]
  },
  {
   "cell_type": "code",
   "execution_count": 57,
   "id": "fbbe0438",
   "metadata": {},
   "outputs": [],
   "source": [
    "## list of imports\n",
    "import pandas as pd\n",
    "import seaborn as sns"
   ]
  },
  {
   "cell_type": "code",
   "execution_count": 58,
   "id": "3b690e5c",
   "metadata": {},
   "outputs": [
    {
     "data": {
      "text/html": [
       "<div>\n",
       "<style scoped>\n",
       "    .dataframe tbody tr th:only-of-type {\n",
       "        vertical-align: middle;\n",
       "    }\n",
       "\n",
       "    .dataframe tbody tr th {\n",
       "        vertical-align: top;\n",
       "    }\n",
       "\n",
       "    .dataframe thead th {\n",
       "        text-align: right;\n",
       "    }\n",
       "</style>\n",
       "<table border=\"1\" class=\"dataframe\">\n",
       "  <thead>\n",
       "    <tr style=\"text-align: right;\">\n",
       "      <th></th>\n",
       "      <th>reviewerID</th>\n",
       "      <th>asin</th>\n",
       "      <th>reviewerName</th>\n",
       "      <th>helpful</th>\n",
       "      <th>reviewText</th>\n",
       "      <th>overall</th>\n",
       "      <th>summary</th>\n",
       "      <th>unixReviewTime</th>\n",
       "      <th>reviewTime</th>\n",
       "    </tr>\n",
       "  </thead>\n",
       "  <tbody>\n",
       "    <tr>\n",
       "      <th>0</th>\n",
       "      <td>A2IBPI20UZIR0U</td>\n",
       "      <td>1384719342</td>\n",
       "      <td>cassandra tu \"Yeah, well, that's just like, u...</td>\n",
       "      <td>[0, 0]</td>\n",
       "      <td>Not much to write about here, but it does exac...</td>\n",
       "      <td>5.0</td>\n",
       "      <td>good</td>\n",
       "      <td>1393545600</td>\n",
       "      <td>02 28, 2014</td>\n",
       "    </tr>\n",
       "    <tr>\n",
       "      <th>1</th>\n",
       "      <td>A14VAT5EAX3D9S</td>\n",
       "      <td>1384719342</td>\n",
       "      <td>Jake</td>\n",
       "      <td>[13, 14]</td>\n",
       "      <td>The product does exactly as it should and is q...</td>\n",
       "      <td>5.0</td>\n",
       "      <td>Jake</td>\n",
       "      <td>1363392000</td>\n",
       "      <td>03 16, 2013</td>\n",
       "    </tr>\n",
       "    <tr>\n",
       "      <th>2</th>\n",
       "      <td>A195EZSQDW3E21</td>\n",
       "      <td>1384719342</td>\n",
       "      <td>Rick Bennette \"Rick Bennette\"</td>\n",
       "      <td>[1, 1]</td>\n",
       "      <td>The primary job of this device is to block the...</td>\n",
       "      <td>5.0</td>\n",
       "      <td>It Does The Job Well</td>\n",
       "      <td>1377648000</td>\n",
       "      <td>08 28, 2013</td>\n",
       "    </tr>\n",
       "    <tr>\n",
       "      <th>3</th>\n",
       "      <td>A2C00NNG1ZQQG2</td>\n",
       "      <td>1384719342</td>\n",
       "      <td>RustyBill \"Sunday Rocker\"</td>\n",
       "      <td>[0, 0]</td>\n",
       "      <td>Nice windscreen protects my MXL mic and preven...</td>\n",
       "      <td>5.0</td>\n",
       "      <td>GOOD WINDSCREEN FOR THE MONEY</td>\n",
       "      <td>1392336000</td>\n",
       "      <td>02 14, 2014</td>\n",
       "    </tr>\n",
       "    <tr>\n",
       "      <th>4</th>\n",
       "      <td>A94QU4C90B1AX</td>\n",
       "      <td>1384719342</td>\n",
       "      <td>SEAN MASLANKA</td>\n",
       "      <td>[0, 0]</td>\n",
       "      <td>This pop filter is great. It looks and perform...</td>\n",
       "      <td>5.0</td>\n",
       "      <td>No more pops when I record my vocals.</td>\n",
       "      <td>1392940800</td>\n",
       "      <td>02 21, 2014</td>\n",
       "    </tr>\n",
       "  </tbody>\n",
       "</table>\n",
       "</div>"
      ],
      "text/plain": [
       "       reviewerID        asin  \\\n",
       "0  A2IBPI20UZIR0U  1384719342   \n",
       "1  A14VAT5EAX3D9S  1384719342   \n",
       "2  A195EZSQDW3E21  1384719342   \n",
       "3  A2C00NNG1ZQQG2  1384719342   \n",
       "4   A94QU4C90B1AX  1384719342   \n",
       "\n",
       "                                       reviewerName   helpful  \\\n",
       "0  cassandra tu \"Yeah, well, that's just like, u...    [0, 0]   \n",
       "1                                              Jake  [13, 14]   \n",
       "2                     Rick Bennette \"Rick Bennette\"    [1, 1]   \n",
       "3                         RustyBill \"Sunday Rocker\"    [0, 0]   \n",
       "4                                     SEAN MASLANKA    [0, 0]   \n",
       "\n",
       "                                          reviewText  overall  \\\n",
       "0  Not much to write about here, but it does exac...      5.0   \n",
       "1  The product does exactly as it should and is q...      5.0   \n",
       "2  The primary job of this device is to block the...      5.0   \n",
       "3  Nice windscreen protects my MXL mic and preven...      5.0   \n",
       "4  This pop filter is great. It looks and perform...      5.0   \n",
       "\n",
       "                                 summary  unixReviewTime   reviewTime  \n",
       "0                                   good      1393545600  02 28, 2014  \n",
       "1                                   Jake      1363392000  03 16, 2013  \n",
       "2                   It Does The Job Well      1377648000  08 28, 2013  \n",
       "3          GOOD WINDSCREEN FOR THE MONEY      1392336000  02 14, 2014  \n",
       "4  No more pops when I record my vocals.      1392940800  02 21, 2014  "
      ]
     },
     "execution_count": 58,
     "metadata": {},
     "output_type": "execute_result"
    }
   ],
   "source": [
    "## dataframe\n",
    "df = pd.read_csv('Musical_instruments_reviews.csv')\n",
    "df.head(5)"
   ]
  },
  {
   "cell_type": "code",
   "execution_count": 59,
   "id": "b087db8e",
   "metadata": {},
   "outputs": [
    {
     "name": "stdout",
     "output_type": "stream",
     "text": [
      "B003VWJ2K8    163\n",
      "B0002E1G5C    143\n",
      "B0002F7K7Y    116\n",
      "B003VWKPHC    114\n",
      "B0002H0A3S     93\n",
      "             ... \n",
      "B004GYM7IE      5\n",
      "B000LPUV8K      5\n",
      "B000LAT0AK      5\n",
      "B004HJ9COU      5\n",
      "1384719342      5\n",
      "Name: asin, Length: 900, dtype: int64\n"
     ]
    }
   ],
   "source": [
    "## to see the counts\n",
    "product_count = df['asin'].value_counts()\n",
    "print(product_count)"
   ]
  },
  {
   "cell_type": "code",
   "execution_count": 10,
   "id": "72a28bbe",
   "metadata": {},
   "outputs": [
    {
     "data": {
      "text/plain": [
       "<Axes: xlabel='asin', ylabel='Count'>"
      ]
     },
     "execution_count": 10,
     "metadata": {},
     "output_type": "execute_result"
    },
    {
     "data": {
      "image/png": "[encoded data removed]",
      "text/plain": [
       "<Figure size 640x480 with 1 Axes>"
      ]
     },
     "metadata": {},
     "output_type": "display_data"
    }
   ],
   "source": [
    "## to see the data visualy \n",
    "sns.histplot(data=df, x='asin')"
   ]
  },
  {
   "cell_type": "markdown",
   "id": "e4a19a61",
   "metadata": {},
   "source": [
    "#### data shows that there are 5 main products, so thats the data that we will use"
   ]
  },
  {
   "cell_type": "code",
   "execution_count": 85,
   "id": "4dc357b9",
   "metadata": {},
   "outputs": [],
   "source": [
    "## table for product B003VWJ2K8\n",
    "\n",
    "product_1 = df[df['asin'] == 'B003VWJ2K8'].copy()\n",
    "product_2 = df[df['asin'] == 'B0002E1G5C'].copy()\n",
    "product_3 = df[df['asin'] == 'B0002F7K7Y'].copy()\n",
    "product_4 = df[df['asin'] == 'B003VWKPHC'].copy()\n",
    "product_5 = df[df['asin'] == 'B0002H0A3S'].copy()"
   ]
  },
  {
   "cell_type": "markdown",
   "id": "08f5ea3c",
   "metadata": {},
   "source": [
    "#### emotion reader for python"
   ]
  },
  {
   "cell_type": "code",
   "execution_count": 26,
   "id": "b2328f58",
   "metadata": {},
   "outputs": [
    {
     "data": {
      "text/plain": [
       "['Collecting vaderSentiment',\n",
       " '  Downloading vaderSentiment-3.3.2-py2.py3-none-any.whl (125 kB)',\n",
       " '     ---------------------------------------- 0.0/126.0 kB ? eta -:--:--',\n",
       " '     --- ------------------------------------ 10.2/126.0 kB ? eta -:--:--',\n",
       " '     --------- --------------------------- 30.7/126.0 kB 330.3 kB/s eta 0:00:01',\n",
       " '     ------------ ------------------------ 41.0/126.0 kB 245.8 kB/s eta 0:00:01',\n",
       " '     --------------------- --------------- 71.7/126.0 kB 328.6 kB/s eta 0:00:01',\n",
       " '     ------------------------------------ 126.0/126.0 kB 530.8 kB/s eta 0:00:00',\n",
       " 'Requirement already satisfied: requests in c:\\\\users\\\\62817\\\\anaconda3\\\\lib\\\\site-packages (from vaderSentiment) (2.31.0)',\n",
       " 'Requirement already satisfied: charset-normalizer<4,>=2 in c:\\\\users\\\\62817\\\\anaconda3\\\\lib\\\\site-packages (from requests->vaderSentiment) (2.0.4)',\n",
       " 'Requirement already satisfied: idna<4,>=2.5 in c:\\\\users\\\\62817\\\\anaconda3\\\\lib\\\\site-packages (from requests->vaderSentiment) (3.4)',\n",
       " 'Requirement already satisfied: urllib3<3,>=1.21.1 in c:\\\\users\\\\62817\\\\anaconda3\\\\lib\\\\site-packages (from requests->vaderSentiment) (1.26.16)',\n",
       " 'Requirement already satisfied: certifi>=2017.4.17 in c:\\\\users\\\\62817\\\\anaconda3\\\\lib\\\\site-packages (from requests->vaderSentiment) (2023.7.22)',\n",
       " 'Installing collected packages: vaderSentiment',\n",
       " 'Successfully installed vaderSentiment-3.3.2']"
      ]
     },
     "execution_count": 26,
     "metadata": {},
     "output_type": "execute_result"
    }
   ],
   "source": [
    "!! pip install vaderSentiment"
   ]
  },
  {
   "cell_type": "code",
   "execution_count": 38,
   "id": "53f69629",
   "metadata": {},
   "outputs": [
    {
     "name": "stdout",
     "output_type": "stream",
     "text": [
      "{'neg': 0.684, 'neu': 0.316, 'pos': 0.0, 'compound': -0.8957}\n"
     ]
    }
   ],
   "source": [
    "# Import the necessary libraries\n",
    "from vaderSentiment.vaderSentiment import SentimentIntensityAnalyzer\n",
    "\n",
    "# Create an instance of the SentimentIntensityAnalyzer class\n",
    "analyzer = SentimentIntensityAnalyzer()\n",
    "\n",
    "# Define the text to analyze\n",
    "text = \"fuck this piece of shit, i hate it\"\n",
    "\n",
    "# Analyze the sentiment of the text\n",
    "scores = analyzer.polarity_scores(text)\n",
    "\n",
    "# Print the sentiment scores\n",
    "print(scores)\n"
   ]
  },
  {
   "cell_type": "code",
   "execution_count": 40,
   "id": "b13e76fc",
   "metadata": {},
   "outputs": [
    {
     "data": {
      "text/plain": [
       "-0.8957"
      ]
     },
     "execution_count": 40,
     "metadata": {},
     "output_type": "execute_result"
    }
   ],
   "source": [
    "## only get the compound scores\n",
    "scores['compound']"
   ]
  },
  {
   "cell_type": "markdown",
   "id": "b51a154f",
   "metadata": {},
   "source": [
    "## Part 2, the emotion reading in table"
   ]
  },
  {
   "cell_type": "markdown",
   "id": "dd2732d4",
   "metadata": {},
   "source": [
    "#### Reading the emotion"
   ]
  },
  {
   "cell_type": "code",
   "execution_count": 65,
   "id": "b57a041a",
   "metadata": {},
   "outputs": [],
   "source": [
    "## the emotional function \n",
    "def emotion(text):\n",
    "    analyzer = SentimentIntensityAnalyzer()\n",
    "    scores = analyzer.polarity_scores(text)\n",
    "    return scores['compound'] "
   ]
  },
  {
   "cell_type": "code",
   "execution_count": 88,
   "id": "87d91d12",
   "metadata": {},
   "outputs": [],
   "source": [
    "product_1['emotion'] = product_1['reviewText'].apply(emotion)\n",
    "product_2['emotion'] = product_2['reviewText'].apply(emotion)\n",
    "product_3['emotion'] = product_3['reviewText'].apply(emotion)\n",
    "product_4['emotion'] = product_4['reviewText'].apply(emotion)\n",
    "product_5['emotion'] = product_5['reviewText'].apply(emotion)"
   ]
  },
  {
   "cell_type": "code",
   "execution_count": 91,
   "id": "4abe23e6",
   "metadata": {},
   "outputs": [
    {
     "data": {
      "text/html": [
       "<div>\n",
       "<style scoped>\n",
       "    .dataframe tbody tr th:only-of-type {\n",
       "        vertical-align: middle;\n",
       "    }\n",
       "\n",
       "    .dataframe tbody tr th {\n",
       "        vertical-align: top;\n",
       "    }\n",
       "\n",
       "    .dataframe thead th {\n",
       "        text-align: right;\n",
       "    }\n",
       "</style>\n",
       "<table border=\"1\" class=\"dataframe\">\n",
       "  <thead>\n",
       "    <tr style=\"text-align: right;\">\n",
       "      <th></th>\n",
       "      <th>reviewerID</th>\n",
       "      <th>asin</th>\n",
       "      <th>reviewerName</th>\n",
       "      <th>helpful</th>\n",
       "      <th>reviewText</th>\n",
       "      <th>overall</th>\n",
       "      <th>summary</th>\n",
       "      <th>unixReviewTime</th>\n",
       "      <th>reviewTime</th>\n",
       "      <th>emotion</th>\n",
       "    </tr>\n",
       "  </thead>\n",
       "  <tbody>\n",
       "    <tr>\n",
       "      <th>8107</th>\n",
       "      <td>A3MONHA5DCPPLZ</td>\n",
       "      <td>B003VWJ2K8</td>\n",
       "      <td>3rdtimer</td>\n",
       "      <td>[0, 0]</td>\n",
       "      <td>It works but shut it down as soon as you are f...</td>\n",
       "      <td>3.0</td>\n",
       "      <td>Eats batteries.</td>\n",
       "      <td>1390003200</td>\n",
       "      <td>01 18, 2014</td>\n",
       "      <td>-0.1154</td>\n",
       "    </tr>\n",
       "    <tr>\n",
       "      <th>8108</th>\n",
       "      <td>ASYHYW0USZVN6</td>\n",
       "      <td>B003VWJ2K8</td>\n",
       "      <td>aashish</td>\n",
       "      <td>[0, 0]</td>\n",
       "      <td>very awesome item. really useful for tuning. h...</td>\n",
       "      <td>5.0</td>\n",
       "      <td>awesome item</td>\n",
       "      <td>1357948800</td>\n",
       "      <td>01 12, 2013</td>\n",
       "      <td>0.9175</td>\n",
       "    </tr>\n",
       "    <tr>\n",
       "      <th>8109</th>\n",
       "      <td>A1RSRUQVKB5EBO</td>\n",
       "      <td>B003VWJ2K8</td>\n",
       "      <td>A F&amp;amp;T</td>\n",
       "      <td>[1, 1]</td>\n",
       "      <td>My friend has commented on its bright color - ...</td>\n",
       "      <td>5.0</td>\n",
       "      <td>nice tuner for the $</td>\n",
       "      <td>1322438400</td>\n",
       "      <td>11 28, 2011</td>\n",
       "      <td>0.9606</td>\n",
       "    </tr>\n",
       "    <tr>\n",
       "      <th>8110</th>\n",
       "      <td>A22Z554ZQ8NFPC</td>\n",
       "      <td>B003VWJ2K8</td>\n",
       "      <td>AF \"Whigs\"</td>\n",
       "      <td>[0, 0]</td>\n",
       "      <td>I have another cheap clip on tuner from guitar...</td>\n",
       "      <td>5.0</td>\n",
       "      <td>Wow! Great tuner!</td>\n",
       "      <td>1299196800</td>\n",
       "      <td>03 4, 2011</td>\n",
       "      <td>0.9839</td>\n",
       "    </tr>\n",
       "    <tr>\n",
       "      <th>8111</th>\n",
       "      <td>A2SBZZ1HSR7WSP</td>\n",
       "      <td>B003VWJ2K8</td>\n",
       "      <td>A. Mayse</td>\n",
       "      <td>[0, 0]</td>\n",
       "      <td>the snark series of tuners are the best small ...</td>\n",
       "      <td>5.0</td>\n",
       "      <td>excellent tuner</td>\n",
       "      <td>1324166400</td>\n",
       "      <td>12 18, 2011</td>\n",
       "      <td>0.7869</td>\n",
       "    </tr>\n",
       "  </tbody>\n",
       "</table>\n",
       "</div>"
      ],
      "text/plain": [
       "          reviewerID        asin reviewerName helpful  \\\n",
       "8107  A3MONHA5DCPPLZ  B003VWJ2K8     3rdtimer  [0, 0]   \n",
       "8108   ASYHYW0USZVN6  B003VWJ2K8      aashish  [0, 0]   \n",
       "8109  A1RSRUQVKB5EBO  B003VWJ2K8    A F&amp;T  [1, 1]   \n",
       "8110  A22Z554ZQ8NFPC  B003VWJ2K8   AF \"Whigs\"  [0, 0]   \n",
       "8111  A2SBZZ1HSR7WSP  B003VWJ2K8     A. Mayse  [0, 0]   \n",
       "\n",
       "                                             reviewText  overall  \\\n",
       "8107  It works but shut it down as soon as you are f...      3.0   \n",
       "8108  very awesome item. really useful for tuning. h...      5.0   \n",
       "8109  My friend has commented on its bright color - ...      5.0   \n",
       "8110  I have another cheap clip on tuner from guitar...      5.0   \n",
       "8111  the snark series of tuners are the best small ...      5.0   \n",
       "\n",
       "                   summary  unixReviewTime   reviewTime  emotion  \n",
       "8107       Eats batteries.      1390003200  01 18, 2014  -0.1154  \n",
       "8108          awesome item      1357948800  01 12, 2013   0.9175  \n",
       "8109  nice tuner for the $      1322438400  11 28, 2011   0.9606  \n",
       "8110     Wow! Great tuner!      1299196800   03 4, 2011   0.9839  \n",
       "8111       excellent tuner      1324166400  12 18, 2011   0.7869  "
      ]
     },
     "execution_count": 91,
     "metadata": {},
     "output_type": "execute_result"
    }
   ],
   "source": [
    "## final result example\n",
    "product_1.head(5)"
   ]
  },
  {
   "cell_type": "markdown",
   "id": "061fb59e",
   "metadata": {},
   "source": [
    "#### Visualizing the emotions"
   ]
  },
  {
   "cell_type": "code",
   "execution_count": 92,
   "id": "87ff15f7",
   "metadata": {},
   "outputs": [
    {
     "data": {
      "text/plain": [
       "<Axes: xlabel='emotion', ylabel='Count'>"
      ]
     },
     "execution_count": 92,
     "metadata": {},
     "output_type": "execute_result"
    },
    {
     "data": {
      "image/png": "[encoded data removed]",
      "text/plain": [
       "<Figure size 640x480 with 1 Axes>"
      ]
     },
     "metadata": {},
     "output_type": "display_data"
    }
   ],
   "source": [
    "## histogram of product 1\n",
    "sns.histplot(data=product_1, x='emotion')"
   ]
  },
  {
   "cell_type": "code",
   "execution_count": 93,
   "id": "22ef5917",
   "metadata": {},
   "outputs": [
    {
     "data": {
      "text/plain": [
       "<Axes: xlabel='emotion', ylabel='Count'>"
      ]
     },
     "execution_count": 93,
     "metadata": {},
     "output_type": "execute_result"
    },
    {
     "data": {
      "image/png": "[encoded data removed]",
      "text/plain": [
       "<Figure size 640x480 with 1 Axes>"
      ]
     },
     "metadata": {},
     "output_type": "display_data"
    }
   ],
   "source": [
    "## histogram of product 2\n",
    "sns.histplot(data=product_2, x='emotion')"
   ]
  },
  {
   "cell_type": "code",
   "execution_count": 94,
   "id": "87ebc64c",
   "metadata": {},
   "outputs": [
    {
     "data": {
      "text/plain": [
       "<Axes: xlabel='emotion', ylabel='Count'>"
      ]
     },
     "execution_count": 94,
     "metadata": {},
     "output_type": "execute_result"
    },
    {
     "data": {
      "image/png": "[encoded data removed]",
      "text/plain": [
       "<Figure size 640x480 with 1 Axes>"
      ]
     },
     "metadata": {},
     "output_type": "display_data"
    }
   ],
   "source": [
    "## histogram of product 3\n",
    "sns.histplot(data=product_3, x='emotion')"
   ]
  },
  {
   "cell_type": "code",
   "execution_count": 95,
   "id": "10be1c8a",
   "metadata": {},
   "outputs": [
    {
     "data": {
      "text/plain": [
       "<Axes: xlabel='emotion', ylabel='Count'>"
      ]
     },
     "execution_count": 95,
     "metadata": {},
     "output_type": "execute_result"
    },
    {
     "data": {
      "image/png": "[encoded data removed]",
      "text/plain": [
       "<Figure size 640x480 with 1 Axes>"
      ]
     },
     "metadata": {},
     "output_type": "display_data"
    }
   ],
   "source": [
    "## histogram of product 4\n",
    "sns.histplot(data=product_4, x='emotion')"
   ]
  },
  {
   "cell_type": "code",
   "execution_count": 96,
   "id": "9bab97be",
   "metadata": {},
   "outputs": [
    {
     "data": {
      "text/plain": [
       "<Axes: xlabel='emotion', ylabel='Count'>"
      ]
     },
     "execution_count": 96,
     "metadata": {},
     "output_type": "execute_result"
    },
    {
     "data": {
      "image/png": "[encoded data removed]",
      "text/plain": [
       "<Figure size 640x480 with 1 Axes>"
      ]
     },
     "metadata": {},
     "output_type": "display_data"
    }
   ],
   "source": [
    "## histogram of product 5\n",
    "sns.histplot(data=product_5, x='emotion')"
   ]
  },
  {
   "cell_type": "code",
   "execution_count": null,
   "id": "17f0a132",
   "metadata": {},
   "outputs": [],
   "source": []
  }
 ],
 "metadata": {
  "kernelspec": {
   "display_name": "Python 3 (ipykernel)",
   "language": "python",
   "name": "python3"
  },
  "language_info": {
   "codemirror_mode": {
    "name": "ipython",
    "version": 3
   },
   "file_extension": ".py",
   "mimetype": "text/x-python",
   "name": "python",
   "nbconvert_exporter": "python",
   "pygments_lexer": "ipython3",
   "version": "3.11.4"
  }
 },
 "nbformat": 4,
 "nbformat_minor": 5
}
